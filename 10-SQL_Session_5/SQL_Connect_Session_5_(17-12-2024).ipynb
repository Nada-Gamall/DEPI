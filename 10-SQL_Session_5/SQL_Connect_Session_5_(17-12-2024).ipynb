{
 "cells": [
  {
   "cell_type": "markdown",
   "metadata": {},
   "source": [
    "# Connecting Microsoft SQL Server with Python\n",
    "\n",
    "This script demonstrates how to connect to a Microsoft SQL Server database using Python.\n",
    "\n",
    "We will execute a sample query, fetch the results, load them into a Pandas DataFrame, and save them as a CSV file.\n"
   ]
  },
  {
   "cell_type": "markdown",
   "metadata": {},
   "source": [
    "## Step 1: Set up the Conda Environment\n",
    "\n",
    "Ensure the following commands are executed in your `Anaconda Prompt` terminal:\n",
    "\n",
    "```\n",
    "conda create -n ms-sql-env python=3.10 ipykernel -y\n",
    "conda activate ms-sql-env\n",
    "conda install -c conda-forge pyodbc pandas -y\n",
    "```"
   ]
  },
  {
   "cell_type": "markdown",
   "metadata": {},
   "source": [
    "## Step 2: Import Necessary Libraries\n",
    "\n",
    "Import `pyodbc` for database connection and `pandas` for data manipulation."
   ]
  },
  {
   "cell_type": "code",
   "execution_count": 1,
   "metadata": {},
   "outputs": [],
   "source": [
    "import pyodbc\n",
    "import pandas as pd"
   ]
  },
  {
   "cell_type": "markdown",
   "metadata": {},
   "source": [
    "## Step 3: Define Connection Parameters\n",
    "\n",
    "Replace the placeholder values with your actual SQL Server connection details."
   ]
  },
  {
   "cell_type": "code",
   "execution_count": 2,
   "metadata": {},
   "outputs": [],
   "source": [
    "# Connection settings\n",
    "server = 'KH-KH-AC0110\\SQLEXPRESS'          # Replace with your server name\n",
    "database = 'foe_db'                         # Replace with your database name\n",
    "driver = '{ODBC Driver 17 for SQL Server}'  # Ensure this matches your installed driver\n",
    "username = 'YourUsername'                   # Replace with your SQL Server username (if needed)\n",
    "password = 'YourPassword'                   # Replace with your SQL Server password (if needed)"
   ]
  },
  {
   "cell_type": "markdown",
   "metadata": {},
   "source": [
    "## Step 4: Test the Connection\n",
    "\n",
    "Check if the connection with your DBMS is working correctly."
   ]
  },
  {
   "cell_type": "code",
   "execution_count": 3,
   "metadata": {},
   "outputs": [
    {
     "name": "stdout",
     "output_type": "stream",
     "text": [
      "Connection is Successful!\n"
     ]
    }
   ],
   "source": [
    "try:\n",
    "    # Use Trusted Connection for Windows Authentication\n",
    "    connection_string = f'DRIVER={driver};SERVER={server};DATABASE={database};Trusted_Connection=yes;'\n",
    "    \n",
    "    # For SQL Authentication, use the following line instead:\n",
    "    # connection_string = f'DRIVER={driver};SERVER={server};DATABASE={database};UID={username};PWD={password};'\n",
    "    \n",
    "    # Establish the connection\n",
    "    connection = pyodbc.connect(connection_string)\n",
    "    print(\"Connection is Successful!\")\n",
    "\n",
    "except pyodbc.Error as e:\n",
    "    print(\"Error in connection:\", e)\n"
   ]
  },
  {
   "cell_type": "markdown",
   "metadata": {},
   "source": [
    "## Step 5: Execute a Sample Query\n",
    "\n",
    "Fetch data from the `Students` table (replace with your desired table or query)."
   ]
  },
  {
   "cell_type": "code",
   "execution_count": 18,
   "metadata": {},
   "outputs": [],
   "source": [
    "# insert_query = \"\"\"INSERT INTO Students (FirstName, LastName, Email)\n",
    "#             VALUES ('Seif', 'Sameh', 'Seif_sameh@yahoo.com');\n",
    "#         \"\"\"\n",
    "# cursor = connection.cursor()\n",
    "# cursor.execute(insert_query)\n",
    "# connection.commit()"
   ]
  },
  {
   "cell_type": "code",
   "execution_count": 4,
   "metadata": {},
   "outputs": [
    {
     "name": "stdout",
     "output_type": "stream",
     "text": [
      "    StudentID FirstName LastName   BirthDate Gender                      Email\n",
      "0           1   Mostafa     Badr  2010-07-03      M     Mostafa_Badr@gmail.com\n",
      "1           2      John      Doe  2001-05-15      M       john.doe@example.com\n",
      "2           3      Jane    Smith  2002-09-30      F     jane.smith@example.com\n",
      "3           4       Ali     Khan  2000-11-22      M       ali.khan@example.com\n",
      "4           5      Sara    Ahmed  2001-01-14      F     sara.ahmed@example.com\n",
      "5           6   Michael    Brown  2003-03-05      M  michael.brown@example.com\n",
      "6           7     Emily    Davis  2002-07-18      F    emily.davis@example.com\n",
      "7           8      Omar   Hassan  2001-08-12      M    omar.hassan@example.com\n",
      "8           9      Omar   Khaled  2001-03-15      M     omar.khaled@student.eg\n",
      "9          10      Sara     Adel  2002-05-20      F       sara.adel@student.eg\n",
      "10         11   Youssef     Hany  2000-11-08      M    youssef.hany@student.eg\n",
      "11         12     Laila   Mohsen  2001-07-25      F    laila.mohsen@student.eg\n",
      "12         16      Seif    Sameh        None   None       Seif_sameh@yahoo.com\n"
     ]
    },
    {
     "name": "stderr",
     "output_type": "stream",
     "text": [
      "C:\\Users\\Mostafa.Badr\\AppData\\Local\\Temp\\ipykernel_22492\\2533630982.py:9: UserWarning: pandas only supports SQLAlchemy connectable (engine/connection) or database string URI or sqlite3 DBAPI2 connection. Other DBAPI2 objects are not tested. Please consider using SQLAlchemy.\n",
      "  df = pd.read_sql(query, connection)\n"
     ]
    }
   ],
   "source": [
    "# Replace 'Students' with your desired table\n",
    "query = \"SELECT TOP 100 * FROM Students\"\n",
    "# query = \"\"\"\n",
    "#     SELECT AVG(DATEDIFF(YEAR, BirthDate, GETDATE())) AS AverageAge\n",
    "#     FROM Students\n",
    "# \"\"\"\n",
    "\n",
    "# Load query results into a DataFrame\n",
    "df = pd.read_sql(query, connection)\n",
    "print(df)"
   ]
  },
  {
   "cell_type": "markdown",
   "metadata": {},
   "source": [
    "## Step 6: Save Results to a CSV File\n",
    "\n",
    "Save the DataFrame to a CSV file for further analysis."
   ]
  },
  {
   "cell_type": "code",
   "execution_count": 5,
   "metadata": {},
   "outputs": [
    {
     "name": "stdout",
     "output_type": "stream",
     "text": [
      "Query results save to students_table_updated.csv\n"
     ]
    }
   ],
   "source": [
    "# Replace with your desired file name\n",
    "output_file = \"students_table_updated.csv\"\n",
    "df.to_csv(output_file, index=False)\n",
    "print(f\"Query results save to {output_file}\")"
   ]
  },
  {
   "cell_type": "markdown",
   "metadata": {},
   "source": [
    "## Step 7: Execute a Stored Procedure\n",
    "\n",
    "Using pyodbc, Python executes the stored procedure `GetStudentsByCourseID`."
   ]
  },
  {
   "cell_type": "code",
   "execution_count": 6,
   "metadata": {},
   "outputs": [
    {
     "name": "stdout",
     "output_type": "stream",
     "text": [
      "(('StudentID', <class 'int'>, None, 10, 10, 0, False), ('FirstName', <class 'str'>, None, 50, 50, 0, True), ('LastName', <class 'str'>, None, 50, 50, 0, True), ('CourseName', <class 'str'>, None, 100, 100, 0, True), ('EnrollmentDate', <class 'datetime.date'>, None, 10, 10, 0, True))\n",
      "----------------------------------------\n",
      "[(4, 'Ali', 'Khan', 'Artificial Intelligence', datetime.date(2024, 9, 4))]\n",
      "----------------------------------------\n",
      "   StudentID FirstName LastName               CourseName EnrollmentDate\n",
      "0          4       Ali     Khan  Artificial Intelligence     2024-09-04\n"
     ]
    }
   ],
   "source": [
    "# Define the procedure name and parameters  \n",
    "procedure_name = \"GetStudentByCourseID\"\n",
    "course_id = 4\n",
    "\n",
    "# Execute the stored procedure\n",
    "cursor = connection.cursor()\n",
    "cursor.execute(f\"EXEC {procedure_name} @CourseID = ?\", course_id) ##  EXEC GetStudentByCourseID @CourseID = 4\n",
    "\n",
    "# Fetch all results into a pandas DataFrame\n",
    "print(cursor.description)\n",
    "print('-' * 40)\n",
    "columns = []\n",
    "for column in cursor.description:\n",
    "    columns.append(column[0])\n",
    "##columns = [column[0] for column in cursor.description]\n",
    "results = cursor.fetchall()\n",
    "print(results)\n",
    "print('-' * 40)\n",
    "df2 = pd.DataFrame.from_records(results, columns=columns)\n",
    "\n",
    "# Display the DataFrame\n",
    "print(df2)\n",
    "\n",
    "\n",
    "# Optionally save results to a CSV file\n",
    "df2.to_csv(\"students_by_course.csv\", index=False)\n"
   ]
  },
  {
   "cell_type": "markdown",
   "metadata": {},
   "source": [
    "## Step 8: Close the Database Connection\n",
    "\n",
    "Always close the connection after use."
   ]
  },
  {
   "cell_type": "code",
   "execution_count": 7,
   "metadata": {},
   "outputs": [
    {
     "name": "stdout",
     "output_type": "stream",
     "text": [
      "Connection Closed\n"
     ]
    }
   ],
   "source": [
    "connection.close()\n",
    "print(\"Connection Closed\")"
   ]
  }
 ],
 "metadata": {
  "kernelspec": {
   "display_name": "ms-sql-env",
   "language": "python",
   "name": "python3"
  },
  "language_info": {
   "codemirror_mode": {
    "name": "ipython",
    "version": 3
   },
   "file_extension": ".py",
   "mimetype": "text/x-python",
   "name": "python",
   "nbconvert_exporter": "python",
   "pygments_lexer": "ipython3",
   "version": "3.10.16"
  }
 },
 "nbformat": 4,
 "nbformat_minor": 2
}
