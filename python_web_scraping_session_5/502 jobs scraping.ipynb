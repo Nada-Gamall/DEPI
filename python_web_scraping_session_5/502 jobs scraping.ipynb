{
 "cells": [
  {
   "cell_type": "markdown",
   "id": "c47d3205",
   "metadata": {},
   "source": [
    "## Web Scraping Demo\n",
    "This is a simple demonstration of web scraping using Python. The code uses libraries such as `requests` and `BeautifulSoup` to extract job data from websites like Wuzzuf and Bayt.\n"
   ]
  },
  {
   "cell_type": "markdown",
   "id": "1effd65f",
   "metadata": {},
   "source": [
    "### Step 1: Install Required Libraries\n",
    "Install the `lxml` library for HTML parsing."
   ]
  },
  {
   "cell_type": "code",
   "execution_count": null,
   "id": "97ce27d8",
   "metadata": {},
   "outputs": [],
   "source": [
    "!pip install lxml"
   ]
  },
  {
   "cell_type": "markdown",
   "id": "ce3c975f",
   "metadata": {},
   "source": [
    "### Step 2: Import Required Libraries\n",
    "Import the necessary libraries for making HTTP requests and parsing HTML."
   ]
  },
  {
   "cell_type": "code",
   "execution_count": null,
   "id": "453dad0f",
   "metadata": {},
   "outputs": [],
   "source": []
  },
  {
   "cell_type": "markdown",
   "id": "b9d988e9",
   "metadata": {},
   "source": [
    "### Step 3: Scrape Wuzzuf for Job Data\n",
    "Define the target URL and fetch the page content."
   ]
  },
  {
   "cell_type": "code",
   "execution_count": null,
   "id": "cfd6b184",
   "metadata": {},
   "outputs": [],
   "source": [
    "# Define the URL for Wuzzuf search page\n",
    "u = \"https://wuzzuf.net/search/jobs?a=spbg&q=machine%20learning\"\n",
    "\n",
    "# Send a GET request to the URL\n",
    "\n",
    "\n",
    "# Parse the page content using BeautifulSoup\n"
   ]
  },
  {
   "cell_type": "markdown",
   "id": "4907519d",
   "metadata": {},
   "source": [
    "#### Step 3.1: Extract Job Titles\n",
    "Use BeautifulSoup to find and print all job titles on the page."
   ]
  },
  {
   "cell_type": "code",
   "execution_count": null,
   "id": "c679d1f7",
   "metadata": {},
   "outputs": [],
   "source": [
    "# Find all job titles on the page\n",
    "\n",
    "\n",
    "\n"
   ]
  },
  {
   "cell_type": "markdown",
   "id": "e6996fb4",
   "metadata": {},
   "source": [
    "#### Step 3.2: Extract Job Locations\n",
    "Extract and print the locations of the jobs."
   ]
  },
  {
   "cell_type": "code",
   "execution_count": null,
   "id": "98b37742",
   "metadata": {},
   "outputs": [],
   "source": [
    "# Find all job locations\n",
    "\n",
    "\n"
   ]
  },
  {
   "cell_type": "markdown",
   "id": "a99a0613",
   "metadata": {},
   "source": [
    "#### Step 3.3: Extract Company Names\n",
    "Extract and print the company names associated with the jobs."
   ]
  },
  {
   "cell_type": "code",
   "execution_count": null,
   "id": "54e03db9",
   "metadata": {},
   "outputs": [],
   "source": [
    "# Find all company names\n",
    "\n",
    "\n",
    "\n"
   ]
  },
  {
   "cell_type": "markdown",
   "id": "d6b522d4",
   "metadata": {},
   "source": [
    "#### Step 3.4: Extract Job Post Dates\n",
    "Extract and print when the jobs were posted."
   ]
  },
  {
   "cell_type": "code",
   "execution_count": null,
   "id": "858e39c4",
   "metadata": {},
   "outputs": [],
   "source": [
    "# Find all job posting dates\n",
    "\n",
    "\n",
    "\n"
   ]
  },
  {
   "cell_type": "markdown",
   "id": "d11b3733",
   "metadata": {},
   "source": [
    "#### Step 3.5: Extract Job Types\n",
    "Extract and print the types of jobs (e.g., Full-time, Part-time)."
   ]
  },
  {
   "cell_type": "code",
   "execution_count": null,
   "id": "bf1f44af",
   "metadata": {},
   "outputs": [],
   "source": [
    "# Find all job types\n",
    "\n",
    "\n",
    "\n"
   ]
  },
  {
   "cell_type": "markdown",
   "id": "eb73568e",
   "metadata": {},
   "source": [
    "#### Step 3.6: Extract Job URLs\n",
    "Extract and print the URLs for individual job postings."
   ]
  },
  {
   "cell_type": "code",
   "execution_count": null,
   "id": "86836d7d",
   "metadata": {},
   "outputs": [],
   "source": [
    "# Extract job URLs\n",
    "\n",
    "\n",
    "\n",
    "\n",
    "\n"
   ]
  },
  {
   "cell_type": "markdown",
   "id": "08e3d2b7",
   "metadata": {},
   "source": [
    "#### Step 3.7: Fetch Individual Job Details\n",
    "Fetch and print the titles of individual jobs from their URLs."
   ]
  },
  {
   "cell_type": "code",
   "execution_count": null,
   "id": "cfede130",
   "metadata": {},
   "outputs": [],
   "source": [
    "# Example URL for testing\n",
    "url = \"https://wuzzuf.net/jobs/p/5NFxSMKMH5K0-SeniorMid-Senior-Deep-Learning-Engineer-Cairo-Egypt?o=1&l=sp&t=sj&a=machine%20learning|search-v3|spbg\"\n",
    "\n",
    "# Send a GET request and parse the content\n",
    "\n",
    "\n",
    "\n",
    "\n"
   ]
  },
  {
   "cell_type": "code",
   "execution_count": null,
   "id": "6b251a30",
   "metadata": {},
   "outputs": [],
   "source": [
    "soup"
   ]
  },
  {
   "cell_type": "code",
   "execution_count": null,
   "id": "6ba421ca",
   "metadata": {
    "collapsed": true
   },
   "outputs": [],
   "source": [
    "\n",
    "\n",
    "\n",
    "\n",
    "\n",
    "\n",
    "\n"
   ]
  },
  {
   "cell_type": "markdown",
   "id": "ee778eef",
   "metadata": {},
   "source": [
    "### Step 4: Scrape Bayt for Job Data\n",
    "Switch to a different platform and extract job data from Bayt."
   ]
  },
  {
   "cell_type": "code",
   "execution_count": null,
   "id": "ee1f0654",
   "metadata": {},
   "outputs": [],
   "source": [
    "# Define the Bayt URL for data science jobs\n",
    "url = \"https://www.bayt.com/en/egypt/jobs/data-science-jobs/\"\n",
    "\n",
    "# Send a GET request with a user-agent header to mimic a browser\n",
    "\n",
    "\n",
    "\n",
    "\n"
   ]
  },
  {
   "cell_type": "markdown",
   "id": "211f3707",
   "metadata": {},
   "source": [
    "#### Step 4.1: Extract Job Titles on Bayt\n",
    "Extract and print job titles from Bayt."
   ]
  },
  {
   "cell_type": "code",
   "execution_count": null,
   "id": "be2dc97a",
   "metadata": {},
   "outputs": [],
   "source": [
    "# Find all job titles on the page\n",
    "\n",
    "\n",
    "\n"
   ]
  },
  {
   "cell_type": "markdown",
   "id": "367a3306",
   "metadata": {},
   "source": [
    "#### Step 4.2: Extract Job URLs on Bayt\n",
    "Extract and print the URLs for job postings on Bayt."
   ]
  },
  {
   "cell_type": "code",
   "execution_count": null,
   "id": "32a9d4c4",
   "metadata": {},
   "outputs": [],
   "source": [
    "# Extract job URLs on Bayt\n",
    "\n",
    "\n",
    "\n",
    "\n",
    "\n"
   ]
  },
  {
   "cell_type": "markdown",
   "id": "320e9ff1",
   "metadata": {},
   "source": [
    "### Quizzes\n",
    "Try to find additional information from the scraped pages using the following tasks:"
   ]
  },
  {
   "cell_type": "markdown",
   "id": "e8f0c1c2",
   "metadata": {},
   "source": [
    "#### Quiz 1: Find the Locations of Jobs"
   ]
  },
  {
   "cell_type": "code",
   "execution_count": null,
   "id": "b407662b",
   "metadata": {},
   "outputs": [],
   "source": [
    "# Find the location\n",
    "location = soup.find_all(\"....\", class_ =\"...\")\n",
    "for l in location:\n",
    "    print(l.text)"
   ]
  },
  {
   "cell_type": "markdown",
   "id": "905d9eec",
   "metadata": {},
   "source": [
    "#### Quiz 2: Find the Company Names of Jobs"
   ]
  },
  {
   "cell_type": "code",
   "execution_count": null,
   "id": "5c960a9d",
   "metadata": {},
   "outputs": [],
   "source": [
    "# Find the company\n",
    "company = soup.find_all(\"...\", class_ =\"....\")\n",
    "for c in company:\n",
    "    print(c.text)"
   ]
  },
  {
   "cell_type": "markdown",
   "id": "7693e3c4",
   "metadata": {},
   "source": [
    "#### Quiz 3: Extract Job Descriptions"
   ]
  },
  {
   "cell_type": "code",
   "execution_count": null,
   "id": "e66f99c2",
   "metadata": {},
   "outputs": [],
   "source": [
    "# job descreption\n",
    "desc = soup.find_all(\"....\", class_ =\"...\")\n",
    "for d in desc:\n",
    "    print(d.text)"
   ]
  }
 ],
 "metadata": {
  "kernelspec": {
   "display_name": "depi_env",
   "language": "python",
   "name": "python3"
  },
  "language_info": {
   "codemirror_mode": {
    "name": "ipython",
    "version": 3
   },
   "file_extension": ".py",
   "mimetype": "text/x-python",
   "name": "python",
   "nbconvert_exporter": "python",
   "pygments_lexer": "ipython3",
   "version": "3.10.15"
  }
 },
 "nbformat": 4,
 "nbformat_minor": 5
}
