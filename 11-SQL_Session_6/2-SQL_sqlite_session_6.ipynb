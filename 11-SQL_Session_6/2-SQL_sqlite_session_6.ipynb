{
 "cells": [
  {
   "cell_type": "markdown",
   "metadata": {},
   "source": [
    "# Exploring SQLite with Python\n",
    "SQLite is a lightweight, serverless database engine that is ideal for quick data storage and manipulation. \n",
    "In this notebook, we will explore:\n",
    "1. Creating databases with `.db` and `.sqlite` extensions.\n",
    "2. Loading existing databases.\n",
    "3. Basic DDL (Data Definition Language) operations.\n",
    "4. Basic DML (Data Manipulation Language) operations.\n",
    "5. Transactions: Committing and rolling back.\n",
    "6. Saving databases in `.db` or `.sqlite` formats.\n",
    "\n",
    "Let's begin!"
   ]
  },
  {
   "cell_type": "markdown",
   "metadata": {},
   "source": [
    "## Importing Required Libraries"
   ]
  },
  {
   "cell_type": "code",
   "execution_count": 1,
   "metadata": {},
   "outputs": [],
   "source": [
    "import sqlite3\n",
    "import os"
   ]
  },
  {
   "cell_type": "markdown",
   "metadata": {},
   "source": [
    "## Creating a Database with `.db` and `.sqlite` Extensions"
   ]
  },
  {
   "cell_type": "code",
   "execution_count": 2,
   "metadata": {},
   "outputs": [],
   "source": [
    "# Create a new SQLite database with .db extension\n",
    "conn_db = sqlite3.connect(\"example_database.db\")\n",
    "\n",
    "\n",
    "\n",
    "# Create a new SQLite database with .sqlite extension\n",
    "conn_sqlite = sqlite3.connect(\"example_database.sqlite\")\n",
    "\n",
    "\n",
    "\n",
    "# Close connections\n",
    "conn_db.close()\n",
    "conn_sqlite.close()"
   ]
  },
  {
   "cell_type": "markdown",
   "metadata": {},
   "source": [
    "## Loading an Existing Database"
   ]
  },
  {
   "cell_type": "code",
   "execution_count": 3,
   "metadata": {},
   "outputs": [],
   "source": [
    "# Check if the database files exist and load them\n",
    "if os.path.exists(\"example_database.db\"):\n",
    "    conn = sqlite3.connect(\"example_database.db\")\n",
    "else:\n",
    "    print(\"Database file is not found\")\n",
    "\n",
    "\n",
    "\n",
    "# Ensure to close the connection after use\n",
    "conn.close()"
   ]
  },
  {
   "cell_type": "markdown",
   "metadata": {},
   "source": [
    "## Basic DDL Operations (Creating Tables)"
   ]
  },
  {
   "cell_type": "code",
   "execution_count": 5,
   "metadata": {},
   "outputs": [],
   "source": [
    "# Reconnect to the .db database\n",
    "conn = sqlite3.connect(\"example_database.db\")\n",
    "cursor = conn.cursor()\n",
    "\n",
    "\n",
    "# Drop tables if they already exist (for clean reruns)\n",
    "cursor.execute(\"DROP TABLE IF EXISTS Users;\")\n",
    "cursor.execute(\"DROP TABLE IF EXISTS Orders;\")\n",
    "\n",
    "# Create 'Users' table\n",
    "cursor.execute(\"\"\"CREATE TABLE Users(\n",
    "                    UserID INTEGER PRIMARY KEY AUTOINCREMENT,\n",
    "                    Name TEXT NOT NULL,\n",
    "                    Email TEXT UNIQUE NOT NULL);\n",
    "               \"\"\")\n",
    "\n",
    "# Create 'Orders' table\n",
    "cursor.execute(\"\"\"CREATE TABLE Orders (\n",
    "                    OrderID INTEGER PRIMARY KEY AUTOINCREMENT,\n",
    "                    UserID INTEGER,\n",
    "                    OrderAmount REAL NOT NULL,\n",
    "                    FOREIGN KEY (UserID) REFERENCES Users(UserID)\n",
    "               );\n",
    "\"\"\")\n",
    "\n",
    "# Commit DDL changes\n",
    "conn.commit()"
   ]
  },
  {
   "cell_type": "markdown",
   "metadata": {},
   "source": [
    "## Basic DML Operations (Inserting Data)"
   ]
  },
  {
   "cell_type": "code",
   "execution_count": 6,
   "metadata": {},
   "outputs": [],
   "source": [
    "# Insert data into 'Users' table\n",
    "cursor.execute(\"\"\"\n",
    "            INSERT INTO Users (Name, Email)\n",
    "                VALUES ('Mostafa', 'Mostafa@gmail.com'),\n",
    "                        ('Mohamed', 'Mohamed@example.com');\n",
    "\"\"\")\n",
    "\n",
    "\n",
    "\n",
    "# Insert data into 'Orders' table\n",
    "cursor.execute(\"\"\"\n",
    "            INSERT INTO Orders (UserID, OrderAmount)\n",
    "               VALUES (1, 250.50),\n",
    "                    (1, 99.99),\n",
    "                    (2, 180.75);\n",
    "\"\"\")\n",
    "\n",
    "\n",
    "# Commit DML changes\n",
    "conn.commit()"
   ]
  },
  {
   "cell_type": "markdown",
   "metadata": {},
   "source": [
    "## SELECT Queries with JOINs"
   ]
  },
  {
   "cell_type": "code",
   "execution_count": 7,
   "metadata": {},
   "outputs": [
    {
     "name": "stdout",
     "output_type": "stream",
     "text": [
      "Results are: \n",
      "('Mostafa', 'Mostafa@gmail.com', 250.5)\n",
      "('Mostafa', 'Mostafa@gmail.com', 99.99)\n",
      "('Mohamed', 'Mohamed@example.com', 180.75)\n"
     ]
    }
   ],
   "source": [
    "query = \"\"\"\n",
    "    SELECT Users.Name,\n",
    "            Users.Email,\n",
    "            o.OrderAmount\n",
    "    FROM Users\n",
    "    INNER JOIN Orders o ON Users.UserID = o.UserID;\n",
    "\"\"\"\n",
    "\n",
    "results = cursor.execute(query).fetchall()\n",
    "\n",
    "\n",
    "print(\"Results are: \")\n",
    "for row in results:\n",
    "    print(row)\n"
   ]
  },
  {
   "cell_type": "markdown",
   "metadata": {},
   "source": [
    "## Transaction Handling (Committing and Rolling Back)"
   ]
  },
  {
   "cell_type": "code",
   "execution_count": 10,
   "metadata": {},
   "outputs": [
    {
     "name": "stdout",
     "output_type": "stream",
     "text": [
      "Transaction failed with error: UNIQUE constraint failed: Users.Email\n"
     ]
    }
   ],
   "source": [
    "# Insert data using a transaction\n",
    "try:\n",
    "    cursor.execute(\"\"\"INSERT INTO Users (Name, Email)\n",
    "                   VALUES ('Omar', 'Omar@example.com')\n",
    "\"\"\")\n",
    "    conn.commit()\n",
    "    print(\"Transaction committed successfully.\")\n",
    "except Exception as e:\n",
    "    conn.rollback()\n",
    "    print(f\"Transaction failed with error: {e}\")\n"
   ]
  },
  {
   "cell_type": "markdown",
   "metadata": {},
   "source": [
    "## Saving Database to .db or .sqlite File"
   ]
  },
  {
   "cell_type": "code",
   "execution_count": 11,
   "metadata": {},
   "outputs": [
    {
     "name": "stdout",
     "output_type": "stream",
     "text": [
      "Backup is Done\n"
     ]
    }
   ],
   "source": [
    "# Save the current database session to a .db file\n",
    "backup_db = \"backup_database.db\"\n",
    "conn_backup = sqlite3.connect(backup_db)\n",
    "\n",
    "# Use the backup function to save data\n",
    "with conn_backup:\n",
    "    conn.backup(conn_backup)\n",
    "print(\"Backup is Done\")\n",
    "\n",
    "\n",
    "conn_backup.close()"
   ]
  },
  {
   "cell_type": "markdown",
   "metadata": {},
   "source": [
    "## Closing the Database Connection"
   ]
  },
  {
   "cell_type": "code",
   "execution_count": 12,
   "metadata": {},
   "outputs": [
    {
     "name": "stdout",
     "output_type": "stream",
     "text": [
      "Connection is closed.\n"
     ]
    }
   ],
   "source": [
    "# Always close the connection to prevent data corruption\n",
    "conn.close()\n",
    "print(\"Connection is closed.\")"
   ]
  }
 ],
 "metadata": {
  "kernelspec": {
   "display_name": "sqlite_demo",
   "language": "python",
   "name": "python3"
  },
  "language_info": {
   "codemirror_mode": {
    "name": "ipython",
    "version": 3
   },
   "file_extension": ".py",
   "mimetype": "text/x-python",
   "name": "python",
   "nbconvert_exporter": "python",
   "pygments_lexer": "ipython3",
   "version": "3.9.21"
  }
 },
 "nbformat": 4,
 "nbformat_minor": 2
}
