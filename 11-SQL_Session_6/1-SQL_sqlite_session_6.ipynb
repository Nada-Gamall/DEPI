{
 "cells": [
  {
   "cell_type": "markdown",
   "metadata": {},
   "source": [
    "# Introduction to SQLite for AI and Data Science\n",
    "\n",
    "SQLite is a lightweight, serverless, self-contained SQL database engine. \n",
    "It is often used for local applications, prototyping, or situations where a full RDBMS (like Microsoft SQL Server or MySQL) is overkill.\n",
    "\n",
    "## SQLite vs Microsoft SQL Server (RDBMS)\n",
    "| Feature                     | SQLite                        | Microsoft SQL Server         |\n",
    "|-----------------------------|-------------------------------|------------------------------|\n",
    "| **Type**                   | Serverless                    | Requires a server            |\n",
    "| **Setup Complexity**       | Minimal setup                 | Complex installation         |\n",
    "| **Portability**            | Single file (.db)             | Needs server and storage     |\n",
    "| **Concurrency**            | Limited concurrent writes     | Supports high concurrency    |\n",
    "| **Use Case**               | Small to medium applications  | Enterprise applications      |\n",
    "\n",
    "SQLite is ideal for AI and data science projects where data size is manageable, and simplicity is preferred.\n"
   ]
  },
  {
   "cell_type": "markdown",
   "metadata": {},
   "source": [
    "## Conda Environment Setup\n",
    "\n",
    "Before starting, we will set up a virtual environment using Conda and install the necessary libraries.\n",
    "\n",
    "### Steps:\n",
    "1. Open the terminal or Anaconda prompt.\n",
    "2. Run the following commands:\n",
    "\n",
    "```bash\n",
    "conda create -n sqlite_demo python=3.9 ipykernel\n",
    "conda activate sqlite_demo\n",
    "conda install sqlite\n",
    "pip install pandas\n",
    "```"
   ]
  },
  {
   "cell_type": "markdown",
   "metadata": {},
   "source": [
    "## Start working with sqlite\n",
    "\n",
    "Choose the environment you just created as a kernel for this notebook and follow the next steps."
   ]
  },
  {
   "cell_type": "code",
   "execution_count": 2,
   "metadata": {},
   "outputs": [],
   "source": [
    "# Import Required Libraries\n",
    "import sqlite3\n",
    "import pandas as pd"
   ]
  },
  {
   "cell_type": "code",
   "execution_count": 5,
   "metadata": {},
   "outputs": [
    {
     "name": "stdout",
     "output_type": "stream",
     "text": [
      "Database connection established successfully.\n"
     ]
    }
   ],
   "source": [
    "# Connect to SQLite database (creates a file called 'student_data.db')\n",
    "conn = sqlite3.connect(\"student_data.db\")\n",
    "cursor = conn.cursor()\n",
    "print(\"Database connection established successfully.\")"
   ]
  },
  {
   "cell_type": "markdown",
   "metadata": {},
   "source": [
    "### Create Tables with Primary and Foreign Keys"
   ]
  },
  {
   "cell_type": "code",
   "execution_count": 6,
   "metadata": {},
   "outputs": [
    {
     "data": {
      "text/plain": [
       "<sqlite3.Cursor at 0x24107bb3dc0>"
      ]
     },
     "execution_count": 6,
     "metadata": {},
     "output_type": "execute_result"
    }
   ],
   "source": [
    "# Drop tables if they already exist (for clean re-runs)\n",
    "cursor.execute(\"DROP TABLE IF EXISTS Students\")\n",
    "cursor.execute(\"DROP TABLE IF EXISTS Grades\")"
   ]
  },
  {
   "cell_type": "code",
   "execution_count": 7,
   "metadata": {},
   "outputs": [
    {
     "name": "stdout",
     "output_type": "stream",
     "text": [
      "Tables created successfully.\n"
     ]
    }
   ],
   "source": [
    "# Create Students table\n",
    "cursor.execute(\"\"\"\n",
    "    CREATE TABLE Students (\n",
    "        StudentID INTEGER PRIMARY KEY,\n",
    "        FirstName TEXT NOT NULL,\n",
    "        LastName TEXT NOT NULL,\n",
    "        Age INTEGER NOT NULL\n",
    "    );\n",
    "\"\"\")\n",
    "\n",
    "# Create Grades table with a foreign key referencing Students\n",
    "cursor.execute(\"\"\"\n",
    "    CREATE TABLE Grades (\n",
    "        GradeID INTEGER PRIMARY KEY,\n",
    "        StudentID INTEGER,\n",
    "        Subject TEXT NOT NULL,\n",
    "        Grade TEXT NOT NULL,\n",
    "        FOREIGN KEY (StudentID) REFERENCES Students(StudentID)\n",
    "    );\n",
    "\"\"\")\n",
    "print(\"Tables created successfully.\")"
   ]
  },
  {
   "cell_type": "markdown",
   "metadata": {},
   "source": [
    "### Insert Data into Tables"
   ]
  },
  {
   "cell_type": "code",
   "execution_count": 8,
   "metadata": {},
   "outputs": [
    {
     "name": "stdout",
     "output_type": "stream",
     "text": [
      "Data inserted successfully into Students and Grades tables.\n"
     ]
    }
   ],
   "source": [
    "# Insert data into Students table\n",
    "cursor.execute(\"INSERT INTO Students (FirstName, LastName, Age) VALUES ('Alice', 'Smith', 20);\")\n",
    "cursor.execute(\"INSERT INTO Students (FirstName, LastName, Age) VALUES ('Bob', 'Johnson', 22);\")\n",
    "\n",
    "# Insert data into Grades table\n",
    "cursor.execute(\"INSERT INTO Grades (StudentID, Subject, Grade) VALUES (1, 'Math', 'A');\")\n",
    "cursor.execute(\"INSERT INTO Grades (StudentID, Subject, Grade) VALUES (1, 'Science', 'B');\")\n",
    "cursor.execute(\"INSERT INTO Grades (StudentID, Subject, Grade) VALUES (2, 'Math', 'C');\")\n",
    "\n",
    "# Commit the changes\n",
    "conn.commit()\n",
    "print(\"Data inserted successfully into Students and Grades tables.\")"
   ]
  },
  {
   "cell_type": "markdown",
   "metadata": {},
   "source": [
    "### Perform SELECT Query with JOIN"
   ]
  },
  {
   "cell_type": "code",
   "execution_count": 9,
   "metadata": {},
   "outputs": [
    {
     "name": "stdout",
     "output_type": "stream",
     "text": [
      "Results of the JOIN query:\n",
      "  FirstName LastName  Subject Grade\n",
      "0     Alice    Smith     Math     A\n",
      "1     Alice    Smith  Science     B\n",
      "2       Bob  Johnson     Math     C\n"
     ]
    }
   ],
   "source": [
    "# Fetch all students and their grades using JOIN\n",
    "query = \"\"\"\n",
    "    SELECT \n",
    "        Students.FirstName, \n",
    "        Students.LastName, \n",
    "        Grades.Subject, \n",
    "        Grades.Grade\n",
    "    FROM Students\n",
    "    INNER JOIN Grades ON Students.StudentID = Grades.StudentID;\n",
    "\"\"\"\n",
    "\n",
    "# Execute the query and load results into a DataFrame\n",
    "df = pd.read_sql_query(query, conn)\n",
    "print(\"Results of the JOIN query:\")\n",
    "print(df)\n"
   ]
  },
  {
   "cell_type": "markdown",
   "metadata": {},
   "source": [
    "### Create a Procedure-like Function in Python"
   ]
  },
  {
   "cell_type": "code",
   "execution_count": 10,
   "metadata": {},
   "outputs": [
    {
     "name": "stdout",
     "output_type": "stream",
     "text": [
      "\n",
      "Grades for Student ID 1:\n",
      "('Alice', 'Smith', 'Math', 'A')\n",
      "('Alice', 'Smith', 'Science', 'B')\n"
     ]
    }
   ],
   "source": [
    "# Since SQLite doesn't support stored procedures, we use Python functions instead\n",
    "\n",
    "def fetch_student_grades(student_id):\n",
    "    \"\"\"\n",
    "    Fetch grades for a specific student ID.\n",
    "    \"\"\"\n",
    "    query = \"\"\"\n",
    "        SELECT \n",
    "            Students.FirstName, \n",
    "            Students.LastName, \n",
    "            Grades.Subject, \n",
    "            Grades.Grade\n",
    "        FROM Students\n",
    "        INNER JOIN Grades ON Students.StudentID = Grades.StudentID\n",
    "        WHERE Students.StudentID = ?;\n",
    "    \"\"\"\n",
    "    result = cursor.execute(query, (student_id,))\n",
    "    rows = result.fetchall()\n",
    "    print(f\"\\nGrades for Student ID {student_id}:\")\n",
    "    for row in rows:\n",
    "        print(row)\n",
    "\n",
    "# Call the function to fetch grades for StudentID = 1\n",
    "fetch_student_grades(1)\n"
   ]
  },
  {
   "cell_type": "markdown",
   "metadata": {},
   "source": [
    "### Close the Database Connection"
   ]
  },
  {
   "cell_type": "code",
   "execution_count": 11,
   "metadata": {},
   "outputs": [
    {
     "name": "stdout",
     "output_type": "stream",
     "text": [
      "Database connection closed.\n"
     ]
    }
   ],
   "source": [
    "conn.close()\n",
    "print(\"Database connection closed.\")"
   ]
  }
 ],
 "metadata": {
  "kernelspec": {
   "display_name": "sqlite_demo",
   "language": "python",
   "name": "python3"
  },
  "language_info": {
   "codemirror_mode": {
    "name": "ipython",
    "version": 3
   },
   "file_extension": ".py",
   "mimetype": "text/x-python",
   "name": "python",
   "nbconvert_exporter": "python",
   "pygments_lexer": "ipython3",
   "version": "3.9.21"
  }
 },
 "nbformat": 4,
 "nbformat_minor": 2
}
